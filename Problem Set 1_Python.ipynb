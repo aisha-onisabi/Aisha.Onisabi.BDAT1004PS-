{
 "cells": [
  {
   "cell_type": "code",
   "execution_count": 5,
   "id": "adf104ee",
   "metadata": {
    "scrolled": true
   },
   "outputs": [],
   "source": [
    "#Question 6\n",
    "#defining a function for pig latin\n",
    "def pig(text):\n",
    "    vowels = ['a', 'e', 'i', 'o', 'u']\n",
    "    \n",
    "    #setting conditional statements\n",
    "    if text[0].lower() in vowels:\n",
    "        print(f\"{text}way\")\n",
    "    else:\n",
    "        print(f\"{text[1:]}{text[0]}ay\")"
   ]
  },
  {
   "cell_type": "code",
   "execution_count": 6,
   "id": "62c2e9b6",
   "metadata": {},
   "outputs": [
    {
     "name": "stdout",
     "output_type": "stream",
     "text": [
      "appyhay\n"
     ]
    }
   ],
   "source": [
    "pig('happy')"
   ]
  },
  {
   "cell_type": "code",
   "execution_count": 21,
   "id": "5dc4bc33",
   "metadata": {},
   "outputs": [
    {
     "name": "stdout",
     "output_type": "stream",
     "text": [
      "Enterway\n"
     ]
    }
   ],
   "source": [
    "pig('Enter')"
   ]
  },
  {
   "cell_type": "code",
   "execution_count": 1,
   "id": "0141cf20",
   "metadata": {},
   "outputs": [],
   "source": [
    "#Question 7\n",
    "#defining a function to count bloodtypes in a txt file\n",
    "def bldcount(filename):\n",
    "    #reading file\n",
    "    readFile = open('bloodtype1.txt', 'r')\n",
    "    readLine = readFile.readline()\n",
    "    emptyList = []\n",
    "    bloodTypes = ['A', 'B', 'AB','O', 'OO']\n",
    "    \n",
    "    #separating and appending the words into empty list\n",
    "    emptyList.append(readLine.split(\" \"))\n",
    "#     print(emptyList)\n",
    "    \n",
    "    #setting loop\n",
    "    for bloodtype in bloodTypes:\n",
    "        output = emptyList[0].count(bloodtype)\n",
    "        print(f\"There are {output} patients of bloodtype {bloodtype}\")\n",
    "        "
   ]
  },
  {
   "cell_type": "code",
   "execution_count": 52,
   "id": "5ff9a6ca",
   "metadata": {},
   "outputs": [
    {
     "name": "stdout",
     "output_type": "stream",
     "text": [
      "There are 15 patients of bloodtype A\n",
      "There are 1 patients of bloodtype B\n",
      "There are 13 patients of bloodtype AB\n",
      "There are 15 patients of bloodtype O\n",
      "There are 0 patients of bloodtype OO\n"
     ]
    }
   ],
   "source": [
    "bldcount('bloodtype1.txt')"
   ]
  },
  {
   "cell_type": "code",
   "execution_count": 56,
   "id": "f024d01a",
   "metadata": {},
   "outputs": [],
   "source": [
    "#Question 8 \n",
    "def curconv(currency, amount):\n",
    "    \n",
    "    #creating empty dictionary\n",
    "    currencies = {}\n",
    "    \n",
    "    #reading the file and lines\n",
    "    currFile = open('currencies.txt', 'r')\n",
    "    lines = currFile.readlines()\n",
    "    \n",
    "    #storing the currency as key and it's corresponding value in empty dictionary\n",
    "    for line in lines:\n",
    "        currencies[line[:3]] = line[4:13]\n",
    "#     print(currencies)\n",
    "    value = currencies[currency]\n",
    "    print(amount * float(value))"
   ]
  },
  {
   "cell_type": "code",
   "execution_count": 57,
   "id": "6be5333a",
   "metadata": {},
   "outputs": [
    {
     "name": "stdout",
     "output_type": "stream",
     "text": [
      "122.96544\n"
     ]
    }
   ],
   "source": [
    "curconv(\"EUR\" , 100)"
   ]
  },
  {
   "cell_type": "code",
   "execution_count": 59,
   "id": "643457ee",
   "metadata": {},
   "outputs": [
    {
     "name": "stdout",
     "output_type": "stream",
     "text": [
      "1.2414\n"
     ]
    }
   ],
   "source": [
    "curconv(\"JPY\", 100)"
   ]
  },
  {
   "cell_type": "code",
   "execution_count": null,
   "id": "e57093a6",
   "metadata": {},
   "outputs": [],
   "source": [
    "#Question 9\n",
    "\n",
    "#Trying to add incompatible variables, as in adding 6 + ‘a’\n",
    "#Error --> unsupported operand type(s) for +: 'int' and 'str'\n",
    "\n",
    "#Referring to the 12th item of a list that has only 10 items\n",
    "#Error --> out of index\n",
    "\n",
    "#Using a value that is out of range for a function’s input, such as calling math.sqrt(-1.0)\n",
    "#Error --> domain error\n",
    "\n",
    "#Using an undeclared variable, such as print(x) when x has not been defined\n",
    "#Error --> variable not defined\n",
    "\n",
    "#Trying to open a file that does not exist, such as mistyping the file name or looking in the wrong directory.\n",
    "#Error --> no such directory found"
   ]
  },
  {
   "cell_type": "code",
   "execution_count": 68,
   "id": "5f2988bc",
   "metadata": {},
   "outputs": [],
   "source": [
    "#Question 10\n",
    "\n",
    "#defining a function that takes input and returns a list of letter frequencies for each letter\n",
    "def frequencies(text):    \n",
    "    #setting alphabets\n",
    "    alphabets = ('a','b','c','d','e','f','g','h','i','j','k','l','m','n','o','p','q','r','s','t','u','v','w','x','y','z')\n",
    "    \n",
    "    #creating empty list and dictionary\n",
    "    characters = []\n",
    "    alpha_dict = {}\n",
    "    \n",
    "    #checking inputted text for alphabets and appending to character list.\n",
    "    for word in text:\n",
    "        for char in word:\n",
    "            if char.isalpha():\n",
    "                characters.append(char)\n",
    "                \n",
    "    #checking if the alphabet is contained in the character list and appending to a dictionary with its corresponding count\n",
    "    for char in alphabets:\n",
    "        if char in characters:\n",
    "            alpha_dict[char] = characters.count(char)\n",
    "        else:\n",
    "            alpha_dict[char] = 0\n",
    "            \n",
    "    #printing list of value(i.e count) of alphabet in the character list\n",
    "    print(list(alpha_dict.values()))"
   ]
  },
  {
   "cell_type": "code",
   "execution_count": 69,
   "id": "9eef1627",
   "metadata": {},
   "outputs": [
    {
     "name": "stdout",
     "output_type": "stream",
     "text": [
      "[1, 1, 1, 3, 5, 1, 1, 2, 1, 0, 1, 0, 1, 2, 4, 0, 1, 2, 0, 2, 1, 0, 1, 1, 0, 0]\n"
     ]
    }
   ],
   "source": [
    "frequencies('The quick red fox got bored and went home.')"
   ]
  },
  {
   "cell_type": "code",
   "execution_count": 70,
   "id": "1c7dc7da",
   "metadata": {},
   "outputs": [
    {
     "name": "stdout",
     "output_type": "stream",
     "text": [
      "[1, 0, 0, 0, 1, 0, 0, 0, 0, 0, 0, 1, 0, 0, 0, 2, 0, 0, 0, 0, 0, 0, 0, 0, 0, 0]\n"
     ]
    }
   ],
   "source": [
    "frequencies('apple')"
   ]
  },
  {
   "cell_type": "code",
   "execution_count": null,
   "id": "f75b0a62",
   "metadata": {},
   "outputs": [],
   "source": []
  }
 ],
 "metadata": {
  "kernelspec": {
   "display_name": "Python 3 (ipykernel)",
   "language": "python",
   "name": "python3"
  },
  "language_info": {
   "codemirror_mode": {
    "name": "ipython",
    "version": 3
   },
   "file_extension": ".py",
   "mimetype": "text/x-python",
   "name": "python",
   "nbconvert_exporter": "python",
   "pygments_lexer": "ipython3",
   "version": "3.9.12"
  }
 },
 "nbformat": 4,
 "nbformat_minor": 5
}
